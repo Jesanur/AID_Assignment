{
  "nbformat": 4,
  "nbformat_minor": 0,
  "metadata": {
    "colab": {
      "provenance": [],
      "mount_file_id": "1zIH6LX13aXa5zKz8EEjNaYmP62pPuyQL",
      "authorship_tag": "ABX9TyN2PIYyLrRWAC3Asvj48bA6",
      "include_colab_link": true
    },
    "kernelspec": {
      "name": "python3",
      "display_name": "Python 3"
    },
    "language_info": {
      "name": "python"
    }
  },
  "cells": [
    {
      "cell_type": "markdown",
      "metadata": {
        "id": "view-in-github",
        "colab_type": "text"
      },
      "source": [
        "<a href=\"https://colab.research.google.com/github/Jesanur/AID_Assignment/blob/main/Assignment1.ipynb\" target=\"_parent\"><img src=\"https://colab.research.google.com/assets/colab-badge.svg\" alt=\"Open In Colab\"/></a>"
      ]
    },
    {
      "cell_type": "code",
      "execution_count": 143,
      "metadata": {
        "colab": {
          "base_uri": "https://localhost:8080/"
        },
        "id": "p9Q-0iIhT1tl",
        "outputId": "143cedd6-f176-4fb3-9b91-4a1a076cbe34"
      },
      "outputs": [
        {
          "output_type": "stream",
          "name": "stdout",
          "text": [
            "Shape of the dataframe (row,column): (200, 3)\n",
            "First 5 elements of cgpa array: [6.89 5.12 7.82 7.42 6.94]\n",
            "First 5 elements of packages array: [3.26 1.98 3.25 3.67 3.57]\n",
            "Mean value of cgpa: 6.990500000000001\n",
            "Mean value of packages: 2.9960500000000003\n",
            "Standard deviation of cgpa: 1.0667318079067485\n",
            "Standard deviation of packages: 0.6899129637135397\n"
          ]
        }
      ],
      "source": [
        "# Answer to the question no.1\n",
        "\n",
        "import numpy as np\n",
        "data = np.genfromtxt('/content/drive/MyDrive/Colab Notebooks/placement_multi_linear_reg.csv', delimiter=',', skip_header = 1)\n",
        "cgpa = data[0:, 0]\n",
        "packages = data[0:, 1]\n",
        "\n",
        "# Print shape of full dataset\n",
        "print(f'Shape of the dataframe (row,column): {data.shape}')\n",
        "\n",
        "# Print first 5 elements of cgpa array\n",
        "print('First 5 elements of cgpa array:',cgpa[0:5])\n",
        "\n",
        "# Print first 5 elements of packages array\n",
        "print('First 5 elements of packages array:',packages[0:5])\n",
        "\n",
        "# Mean value of both arrays\n",
        "print(f'Mean value of cgpa: {np.mean(cgpa)}')\n",
        "print(f'Mean value of packages: {np.mean(packages)}')\n",
        "\n",
        "# Standard Deviation of both arrays\n",
        "print('Standard deviation of cgpa:', np.std(cgpa))\n",
        "print('Standard deviation of packages:', np.std(packages))"
      ]
    },
    {
      "cell_type": "code",
      "source": [
        "# Answer to the question no.2\n",
        "\n",
        "# by using pandas\n",
        "\"\"\"\n",
        "import pandas as pd\n",
        "data1 = pd.read_csv('/content/drive/MyDrive/Colab Notebooks/placement_multi_linear_reg.csv')\n",
        "df = data1\n",
        "df1 = df[df['cgpa']>7 ]\n",
        "df2 = df1[df1['placement'] == 1]\n",
        "\n",
        "#count the number of student with this criteria\n",
        "List = list(df2['placement'])\n",
        "length = len(List)\n",
        "print(f'Number of student with cgpa > 7.0 and placement == 1 is {length}')\n",
        "\n",
        "# print first 3 rows of the filtered data\n",
        "print(df2.head(3))\n",
        "\n",
        "\"\"\"\n",
        "\n",
        "# by using numpy\n",
        "data1 = np.genfromtxt('/content/drive/MyDrive/Colab Notebooks/placement_multi_linear_reg.csv', delimiter=',', names = True, encoding = 'utf-8')\n",
        "def first_three_rows(x):\n",
        "  count = 0\n",
        "  for data in data1:\n",
        "     if data['cgpa'] > 7 and data['placement'] == 1 and count < 3:\n",
        "        count += 1\n",
        "        print(data)\n",
        "\n",
        "print('First 3 rows of the filtered data:')\n",
        "print(data1.dtype.names)\n",
        "first_three_rows(data1)\n",
        "\n",
        "\n",
        "count = 0\n",
        "\n",
        "for data in data1:\n",
        "    if data['cgpa'] > 7 and data['placement'] == 1:\n",
        "        count += 1\n",
        "\n",
        "print(f'Number of student with cgpa > 7.0 and placement == 1 is {count}')"
      ],
      "metadata": {
        "colab": {
          "base_uri": "https://localhost:8080/"
        },
        "id": "yw6YoPFtWF2n",
        "outputId": "21f422fd-d71d-468b-b04c-4ac16e88b368"
      },
      "execution_count": 142,
      "outputs": [
        {
          "output_type": "stream",
          "name": "stdout",
          "text": [
            "First 3 rows of the filtered data:\n",
            "('cgpa', 'package', 'placement')\n",
            "(7.89, 2.99, 1.0)\n",
            "(8.94, 3.65, 1.0)\n",
            "(7.73, 3.42, 1.0)\n",
            "Number of student with cgpa > 7.0 and placement == 1 is 76\n"
          ]
        }
      ]
    },
    {
      "cell_type": "code",
      "source": [
        "# Answer to the question no.3\n",
        "\n",
        "package = data1['package']\n",
        "min_package = np.min(package)\n",
        "max_package = np.max(package)\n",
        "\n",
        "def normalization(x,min,max):\n",
        "  formula = (x - min)/(max - min)\n",
        "  return formula\n",
        "\n",
        "pack_list = []\n",
        "t = 0\n",
        "\n",
        "print('First 5 rows of the normalized package array:')\n",
        "\n",
        "for data in package:\n",
        "  normalization_package = normalization(data, min_package, max_package)\n",
        "  if (normalization_package < 1 and normalization_package > 0):\n",
        "    pack_list.append(normalization_package)\n",
        "  else:\n",
        "    continue\n",
        "\n",
        "  if t < 5:\n",
        "    print(normalization_package)\n",
        "\n",
        "  t += 1\n",
        "\n",
        "print('')\n",
        "pack_array = np.array(pack_list)\n",
        "print('Maximum_normalization:',pack_array.max())\n",
        "print('Minimum_normalization:',pack_array.min())"
      ],
      "metadata": {
        "id": "sr8qMHjKmm0r",
        "colab": {
          "base_uri": "https://localhost:8080/"
        },
        "outputId": "a06c04bc-5640-41a7-935c-6a656b699626"
      },
      "execution_count": 141,
      "outputs": [
        {
          "output_type": "stream",
          "name": "stdout",
          "text": [
            "First 5 rows of the normalized package array:\n",
            "0.5815384615384614\n",
            "0.18769230769230766\n",
            "0.5784615384615385\n",
            "0.7076923076923076\n",
            "0.6769230769230768\n",
            "\n",
            "Maximum_normalization: 0.9938461538461537\n",
            "Minimum_normalization: 0.03384615384615381\n"
          ]
        }
      ]
    },
    {
      "cell_type": "code",
      "source": [
        "# Answer to the question no.4\n",
        "\n",
        "obj1 = data1['cgpa']\n",
        "obj2 = data1['package']\n",
        "\n",
        "correlation = np.corrcoef(obj1,obj2)\n",
        "print('Correlation matrix:\\n',correlation)\n",
        "print('\\nCorrelation between cgpa & package:',correlation[0,1])"
      ],
      "metadata": {
        "colab": {
          "base_uri": "https://localhost:8080/"
        },
        "id": "95RY5mYKfCuJ",
        "outputId": "883fcca6-7715-47a8-cdfd-d58a63312012"
      },
      "execution_count": 140,
      "outputs": [
        {
          "output_type": "stream",
          "name": "stdout",
          "text": [
            "Correlation matrix:\n",
            " [[1.         0.88069247]\n",
            " [0.88069247 1.        ]]\n",
            "\n",
            "Correlation between cgpa & package: 0.8806924693700491\n"
          ]
        }
      ]
    },
    {
      "cell_type": "code",
      "source": [
        "# Answer to the question no.5\n",
        "\n",
        "# boolean mask for placed\n",
        "mask1 = data1['placement'] == 1\n",
        "placed = data1[mask1]\n",
        "placed_average = np.mean(placed['package'])\n",
        "\n",
        "# boolean mask for not placed\n",
        "mask2 = data1['placement'] == 0\n",
        "not_placed = data1[mask2]\n",
        "not_placed_average = np.mean(not_placed['package'])\n",
        "\n",
        "print(f'Average package of placed students: {placed_average:.2f}')\n",
        "print('Average package of not placed students:',\"{:.2f}\".format(not_placed_average))"
      ],
      "metadata": {
        "colab": {
          "base_uri": "https://localhost:8080/"
        },
        "id": "gaSqQheo3raW",
        "outputId": "fa52fd04-4c6b-4989-aeed-5a3599d5273f"
      },
      "execution_count": 139,
      "outputs": [
        {
          "output_type": "stream",
          "name": "stdout",
          "text": [
            "Average package of placed students: 3.55\n",
            "Average package of not placed students: 2.51\n"
          ]
        }
      ]
    },
    {
      "cell_type": "code",
      "source": [
        "# Answer to the question no.6\n",
        "import pandas as pd\n",
        "file_name = pd.read_csv('/content/drive/MyDrive/Colab Notebooks/placement_multi_linear_reg.csv')\n",
        "\n",
        "df = pd.DataFrame(file_name)\n",
        "\n",
        "df1 = df[df['cgpa'] > 6.5]\n",
        "df2 = df1.iloc[0:,0:2]\n",
        "array = df2.to_numpy()\n",
        "# sort by using np.argsort()\n",
        "sorted_indices = np.argsort(array[:,1])\n",
        "sorted_array = array[sorted_indices]\n",
        "print(sorted_array[:5,:])"
      ],
      "metadata": {
        "colab": {
          "base_uri": "https://localhost:8080/"
        },
        "id": "Uv5AsFQG80VQ",
        "outputId": "ad53dc78-7bb8-46a2-da21-7c85e3e1e075"
      },
      "execution_count": 138,
      "outputs": [
        {
          "output_type": "stream",
          "name": "stdout",
          "text": [
            "[[6.6  1.94]\n",
            " [6.59 2.21]\n",
            " [6.84 2.35]\n",
            " [6.94 2.37]\n",
            " [7.19 2.4 ]]\n"
          ]
        }
      ]
    },
    {
      "cell_type": "code",
      "source": [
        "# Answer to the question no.7\n",
        "\n",
        "#array for cgpa had been made before in the first question\n",
        "\n",
        "# create bin list\n",
        "bin = [0, 6.0, 7.5, 10]\n",
        "\n",
        "# now make bin indices\n",
        "bin_indices = np.digitize(cgpa,bin,right = False)\n",
        "#print(bin_indices)\n",
        "\n",
        "# Now count the indices to get the numbers of elements in each bins that have been extracted from cgpa array and indiced into bin_indice\n",
        "count = np.bincount(bin_indices, minlength = len(bin))\n",
        "#print(count)\n",
        "\n",
        "# now make a list of categories for bins\n",
        "categories = ['unused', 'Low', 'Medium', 'High']\n",
        "\n",
        "# Run a for loop to show the count elements along with categories\n",
        "for i in range(1, len(count)):\n",
        "  print(f'{categories[i]} cgpa: {count[i]}')\n",
        "\n",
        "# Algorithm was --\n",
        "# 1. Make the desired array from df.\n",
        "# 2. Use the intervals to make bin.\n",
        "# 3. Use np.digitize() to index each element of the array according the intervals.\n",
        "# 4. An 1D array of indices will be created. It will have 1,2,3 as it's element repeteadly.\n",
        "# 5. Now count the number of repeatation for 1,2,3 by using np.bincount.\n",
        "# 6. Another array will be created for with the number of repeatation and the first element will be 0 for 0, then for 1,2,3 accordingly.\n",
        "# 7. Then make a category for output and put it through a loop with count for output. Loop range will start with 1 as the first index count[0] is 0 for count."
      ],
      "metadata": {
        "colab": {
          "base_uri": "https://localhost:8080/"
        },
        "id": "mkRr5bnbAVZC",
        "outputId": "dfcdfd8b-56c5-4fb3-bb6e-6750a972163c"
      },
      "execution_count": 137,
      "outputs": [
        {
          "output_type": "stream",
          "name": "stdout",
          "text": [
            "Low cgpa: 38\n",
            "Medium cgpa: 101\n",
            "High cgpa: 61\n"
          ]
        }
      ]
    },
    {
      "cell_type": "code",
      "source": [
        " # Answer to the question no.8\n",
        "\n",
        "file_name = '/content/drive/MyDrive/Colab Notebooks/placement_multi_linear_reg.csv'\n",
        "df = np.genfromtxt(file_name, delimiter=',', skip_header = 1)\n",
        "\n",
        "np.random.seed(0)\n",
        "\n",
        "pack_column = df[:,1]\n",
        "rows = len(pack_column)\n",
        "num_missing = int(0.1 * rows)\n",
        "\n",
        "index_missing = np.random.choice(rows, num_missing, replace = False) # Array of randomly choosed indices between 0 to 199\n",
        "print('Missing values of package:',pack_column[index_missing])\n",
        "df[index_missing,1] = np.nan\n",
        "#print(df)\n",
        "\n",
        "median_pack = np.nanmedian(pack_column)\n",
        "nan_index = (np.isnan(pack_column)) # Array of the indexes which are nan among pack_column\n",
        "#print(nan_index)\n",
        "pack_column[nan_index] = median_pack # Updating nan elements with median in pack_column\n",
        "\n",
        "print('\\nNumber of missing value:',len(index_missing))\n",
        "print('')\n",
        "print('First 5 values of modified package_array:\\n',df[:5,:])"
      ],
      "metadata": {
        "id": "ZYrF561lmwhV",
        "colab": {
          "base_uri": "https://localhost:8080/"
        },
        "outputId": "d7eb0db3-bdcb-43ca-c10e-3e574d146216"
      },
      "execution_count": 136,
      "outputs": [
        {
          "output_type": "stream",
          "name": "stdout",
          "text": [
            "Missing values of package: [2.98 2.87 2.59 3.83 3.64 2.08 2.99 2.46 3.65 3.08 1.61 3.16 2.72 2.85\n",
            " 3.44 2.48 2.73 2.49 2.43 3.44]\n",
            "\n",
            "Number of missing value: 20\n",
            "\n",
            "First 5 values of modified package_array:\n",
            " [[6.89 3.26 0.  ]\n",
            " [5.12 1.98 0.  ]\n",
            " [7.82 3.25 0.  ]\n",
            " [7.42 3.67 0.  ]\n",
            " [6.94 3.57 1.  ]]\n"
          ]
        }
      ]
    },
    {
      "cell_type": "code",
      "source": [
        "# Answer to the Bonus question\n",
        "\n",
        "f_name = '/content/drive/MyDrive/Colab Notebooks/placement_multi_linear_reg.csv'\n",
        "dfrm = np.genfromtxt(f_name, delimiter=',', skip_header = 1)\n",
        "\n",
        "# masking\n",
        "filtered_df = dfrm[dfrm[:,2] == 1]\n",
        "# print(filtered_df)\n",
        "f_cgpa = filtered_df[:,0]\n",
        "# print(f_cgpa)\n",
        "f_package = filtered_df[:,1]\n",
        "# print(f_package)\n",
        "\n",
        "mean_cgpa = np.mean(f_cgpa)\n",
        "mean_package = np.mean(f_package)\n",
        "# print(mean_cgpa, mean_package)\n",
        "\n",
        "# stack the columns\n",
        "mean_points = np.column_stack((mean_cgpa, mean_package))\n",
        "# print(mean_points)\n",
        "\n",
        "# new filtered df with cgpa & package\n",
        "new_filtered_df = filtered_df[:,:2]\n",
        "# print(new_filtered_df)\n",
        "\n",
        "distance = []\n",
        "for point in new_filtered_df:\n",
        "  calculated_distance =np.linalg.norm(point - mean_points)\n",
        "  distance.append(calculated_distance)\n",
        "  #print(f'Distance between {point} and {mean_points} is {calculated_distance}')\n",
        "\n",
        "dis_array = np.array(distance)\n",
        "#print('Distance array:',dis_array)\n",
        "max_distance_index = np.argmax(dis_array)\n",
        "#print(max_distance_index)\n",
        "\n",
        "print(f'Maximum distance is {np.max(dis_array):.4f}')\n",
        "print('Maximum distance student\\'s cgpa & package:', new_filtered_df[max_distance_index])"
      ],
      "metadata": {
        "colab": {
          "base_uri": "https://localhost:8080/"
        },
        "id": "pHxqV6iFICXl",
        "outputId": "c400d3ee-0f59-4966-ebdf-1647a7ab2f38"
      },
      "execution_count": 135,
      "outputs": [
        {
          "output_type": "stream",
          "name": "stdout",
          "text": [
            "Maximum distance is 2.0663\n",
            "Maximum distance student's cgpa & package: [6.09 2.31]\n"
          ]
        }
      ]
    },
    {
      "cell_type": "code",
      "source": [],
      "metadata": {
        "id": "T17yNNexscq_"
      },
      "execution_count": null,
      "outputs": []
    }
  ]
}